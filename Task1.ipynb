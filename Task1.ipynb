{
 "cells": [
  {
   "cell_type": "code",
   "execution_count": 1,
   "id": "c822a621-442c-41c2-ab71-060da817aa7a",
   "metadata": {},
   "outputs": [
    {
     "name": "stdout",
     "output_type": "stream",
     "text": [
      "Initial list: [1, 2, 3, 4, 5]\n",
      "List after adding an element: [1, 2, 3, 4, 5, 6]\n",
      "List after removing an element: [1, 2, 4, 5, 6]\n",
      "List after modifying an element: [1, 2, 10, 5, 6]\n"
     ]
    }
   ],
   "source": [
    "# Creating a list\n",
    "my_list = [1, 2, 3, 4, 5]\n",
    "print(\"Initial list:\", my_list)\n",
    "\n",
    "# Adding an element to the list\n",
    "my_list.append(6)\n",
    "print(\"List after adding an element:\", my_list)\n",
    "\n",
    "# Removing an element from the list\n",
    "my_list.remove(3)\n",
    "print(\"List after removing an element:\", my_list)\n",
    "\n",
    "# Modifying an element in the list\n",
    "my_list[2] = 10\n",
    "print(\"List after modifying an element:\", my_list)"
   ]
  },
  {
   "cell_type": "code",
   "execution_count": 5,
   "id": "f6d00797-8687-4627-93d9-e78be59caf92",
   "metadata": {},
   "outputs": [
    {
     "name": "stdout",
     "output_type": "stream",
     "text": [
      "Initial dictionary: {'a': 1, 'b': 2, 'c': 3}\n",
      "Dictionary after adding an element: {'a': 1, 'b': 2, 'c': 3, 'd': 4}\n",
      "Dictionary after removing an element: {'a': 1, 'c': 3, 'd': 4}\n",
      "Dictionary after modifying an element: {'a': 1, 'c': 10, 'd': 4}\n"
     ]
    }
   ],
   "source": [
    "# Creating a dictionary\n",
    "my_dict = {'a': 1, 'b': 2, 'c': 3}\n",
    "print(\"Initial dictionary:\", my_dict)\n",
    "\n",
    "# Adding an element to the dictionary\n",
    "my_dict['d'] = 4\n",
    "print(\"Dictionary after adding an element:\", my_dict)\n",
    "\n",
    "# Removing an element from the dictionary\n",
    "del my_dict['b']\n",
    "print(\"Dictionary after removing an element:\", my_dict)\n",
    "\n",
    "# Modifying an element in the dictionary\n",
    "my_dict['c'] = 10\n",
    "print(\"Dictionary after modifying an element:\", my_dict)"
   ]
  },
  {
   "cell_type": "code",
   "execution_count": 7,
   "id": "c967e2f6-371f-4ede-b884-ea8d666ede9a",
   "metadata": {},
   "outputs": [
    {
     "name": "stdout",
     "output_type": "stream",
     "text": [
      "\n",
      "Initial set: {1, 2, 3, 4, 5}\n",
      "Set after adding an element: {1, 2, 3, 4, 5, 6}\n",
      "Set after removing an element: {1, 2, 4, 5, 6}\n",
      "Set after modifying an element: {2, 4, 5, 6, 10}\n"
     ]
    }
   ],
   "source": [
    "# Creating a set\n",
    "my_set = {1, 2, 3, 4, 5}\n",
    "print(\"\\nInitial set:\", my_set)\n",
    "\n",
    "# Adding an element to the set\n",
    "my_set.add(6)\n",
    "print(\"Set after adding an element:\", my_set)\n",
    "\n",
    "# Removing an element from the set\n",
    "my_set.remove(3)\n",
    "print(\"Set after removing an element:\", my_set)\n",
    "\n",
    "# Modifying element\n",
    "my_set.discard(1)\n",
    "my_set.add(10)\n",
    "print('Set after modifying an element:', my_set)"
   ]
  },
  {
   "cell_type": "code",
   "execution_count": null,
   "id": "7014a39a-0592-4bfd-b627-95d675f922c7",
   "metadata": {},
   "outputs": [],
   "source": []
  }
 ],
 "metadata": {
  "kernelspec": {
   "display_name": "Python 3 (ipykernel)",
   "language": "python",
   "name": "python3"
  },
  "language_info": {
   "codemirror_mode": {
    "name": "ipython",
    "version": 3
   },
   "file_extension": ".py",
   "mimetype": "text/x-python",
   "name": "python",
   "nbconvert_exporter": "python",
   "pygments_lexer": "ipython3",
   "version": "3.11.7"
  }
 },
 "nbformat": 4,
 "nbformat_minor": 5
}
